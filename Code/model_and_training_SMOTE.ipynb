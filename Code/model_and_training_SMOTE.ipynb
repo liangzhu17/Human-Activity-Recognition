{
  "nbformat": 4,
  "nbformat_minor": 0,
  "metadata": {
    "colab": {
      "name": "model_and_training_SMOTE.ipynb",
      "provenance": [],
      "collapsed_sections": []
    },
    "kernelspec": {
      "name": "python3",
      "display_name": "Python 3"
    }
  },
  "cells": [
    {
      "cell_type": "code",
      "metadata": {
        "id": "uKy5ysn4g6Q2",
        "colab_type": "code",
        "outputId": "6b3e7dc6-4649-4975-b734-36577a475707",
        "colab": {
          "base_uri": "https://localhost:8080/",
          "height": 513
        }
      },
      "source": [
        "!pip3 install tensorflow-gpu==2.0.0-beta0"
      ],
      "execution_count": 0,
      "outputs": [
        {
          "output_type": "stream",
          "text": [
            "Collecting tensorflow-gpu==2.0.0-beta0\n",
            "\u001b[?25l  Downloading https://files.pythonhosted.org/packages/e8/7e/87c4c94686cda7066f52cbca4c344248516490acdd6b258ec6b8a805d956/tensorflow_gpu-2.0.0b0-cp36-cp36m-manylinux1_x86_64.whl (348.8MB)\n",
            "\u001b[K     |████████████████████████████████| 348.9MB 42kB/s \n",
            "\u001b[?25hRequirement already satisfied: wrapt>=1.11.1 in /usr/local/lib/python3.6/dist-packages (from tensorflow-gpu==2.0.0-beta0) (1.11.2)\n",
            "Requirement already satisfied: gast>=0.2.0 in /usr/local/lib/python3.6/dist-packages (from tensorflow-gpu==2.0.0-beta0) (0.2.2)\n",
            "Requirement already satisfied: numpy<2.0,>=1.14.5 in /usr/local/lib/python3.6/dist-packages (from tensorflow-gpu==2.0.0-beta0) (1.17.5)\n",
            "Requirement already satisfied: astor>=0.6.0 in /usr/local/lib/python3.6/dist-packages (from tensorflow-gpu==2.0.0-beta0) (0.8.1)\n",
            "Collecting tf-estimator-nightly<1.14.0.dev2019060502,>=1.14.0.dev2019060501\n",
            "\u001b[?25l  Downloading https://files.pythonhosted.org/packages/32/dd/99c47dd007dcf10d63fd895611b063732646f23059c618a373e85019eb0e/tf_estimator_nightly-1.14.0.dev2019060501-py2.py3-none-any.whl (496kB)\n",
            "\u001b[K     |████████████████████████████████| 501kB 53.2MB/s \n",
            "\u001b[?25hRequirement already satisfied: keras-preprocessing>=1.0.5 in /usr/local/lib/python3.6/dist-packages (from tensorflow-gpu==2.0.0-beta0) (1.1.0)\n",
            "Requirement already satisfied: absl-py>=0.7.0 in /usr/local/lib/python3.6/dist-packages (from tensorflow-gpu==2.0.0-beta0) (0.9.0)\n",
            "Requirement already satisfied: termcolor>=1.1.0 in /usr/local/lib/python3.6/dist-packages (from tensorflow-gpu==2.0.0-beta0) (1.1.0)\n",
            "Requirement already satisfied: grpcio>=1.8.6 in /usr/local/lib/python3.6/dist-packages (from tensorflow-gpu==2.0.0-beta0) (1.15.0)\n",
            "Requirement already satisfied: google-pasta>=0.1.6 in /usr/local/lib/python3.6/dist-packages (from tensorflow-gpu==2.0.0-beta0) (0.1.8)\n",
            "Requirement already satisfied: protobuf>=3.6.1 in /usr/local/lib/python3.6/dist-packages (from tensorflow-gpu==2.0.0-beta0) (3.10.0)\n",
            "Requirement already satisfied: keras-applications>=1.0.6 in /usr/local/lib/python3.6/dist-packages (from tensorflow-gpu==2.0.0-beta0) (1.0.8)\n",
            "Collecting tb-nightly<1.14.0a20190604,>=1.14.0a20190603\n",
            "\u001b[?25l  Downloading https://files.pythonhosted.org/packages/a4/96/571b875cd81dda9d5dfa1422a4f9d749e67c0a8d4f4f0b33a4e5f5f35e27/tb_nightly-1.14.0a20190603-py3-none-any.whl (3.1MB)\n",
            "\u001b[K     |████████████████████████████████| 3.1MB 43.4MB/s \n",
            "\u001b[?25hRequirement already satisfied: wheel>=0.26 in /usr/local/lib/python3.6/dist-packages (from tensorflow-gpu==2.0.0-beta0) (0.34.2)\n",
            "Requirement already satisfied: six>=1.10.0 in /usr/local/lib/python3.6/dist-packages (from tensorflow-gpu==2.0.0-beta0) (1.12.0)\n",
            "Requirement already satisfied: setuptools in /usr/local/lib/python3.6/dist-packages (from protobuf>=3.6.1->tensorflow-gpu==2.0.0-beta0) (45.1.0)\n",
            "Requirement already satisfied: h5py in /usr/local/lib/python3.6/dist-packages (from keras-applications>=1.0.6->tensorflow-gpu==2.0.0-beta0) (2.8.0)\n",
            "Requirement already satisfied: markdown>=2.6.8 in /usr/local/lib/python3.6/dist-packages (from tb-nightly<1.14.0a20190604,>=1.14.0a20190603->tensorflow-gpu==2.0.0-beta0) (3.1.1)\n",
            "Requirement already satisfied: werkzeug>=0.11.15 in /usr/local/lib/python3.6/dist-packages (from tb-nightly<1.14.0a20190604,>=1.14.0a20190603->tensorflow-gpu==2.0.0-beta0) (0.16.1)\n",
            "Installing collected packages: tf-estimator-nightly, tb-nightly, tensorflow-gpu\n",
            "Successfully installed tb-nightly-1.14.0a20190603 tensorflow-gpu-2.0.0b0 tf-estimator-nightly-1.14.0.dev2019060501\n"
          ],
          "name": "stdout"
        }
      ]
    },
    {
      "cell_type": "code",
      "metadata": {
        "id": "FzncCRSDhK3L",
        "colab_type": "code",
        "outputId": "d33bbb3c-e85e-4caf-c663-501646795d82",
        "colab": {
          "base_uri": "https://localhost:8080/",
          "height": 122
        }
      },
      "source": [
        "from google.colab import drive\n",
        "drive.mount('/content/drive')"
      ],
      "execution_count": 0,
      "outputs": [
        {
          "output_type": "stream",
          "text": [
            "Go to this URL in a browser: https://accounts.google.com/o/oauth2/auth?client_id=947318989803-6bn6qk8qdgf4n4g3pfee6491hc0brc4i.apps.googleusercontent.com&redirect_uri=urn%3aietf%3awg%3aoauth%3a2.0%3aoob&response_type=code&scope=email%20https%3a%2f%2fwww.googleapis.com%2fauth%2fdocs.test%20https%3a%2f%2fwww.googleapis.com%2fauth%2fdrive%20https%3a%2f%2fwww.googleapis.com%2fauth%2fdrive.photos.readonly%20https%3a%2f%2fwww.googleapis.com%2fauth%2fpeopleapi.readonly\n",
            "\n",
            "Enter your authorization code:\n",
            "··········\n",
            "Mounted at /content/drive\n"
          ],
          "name": "stdout"
        }
      ]
    },
    {
      "cell_type": "code",
      "metadata": {
        "id": "NS9ORqYDhK8c",
        "colab_type": "code",
        "outputId": "811c38a2-3252-46c2-97cb-98a4757ee8e4",
        "colab": {
          "base_uri": "https://localhost:8080/",
          "height": 462
        }
      },
      "source": [
        "import tensorflow as tf\n",
        "import os\n",
        "import glob\n",
        "import numpy as np\n",
        "import numpy.random as npr\n",
        "import pandas as pd\n",
        "import tensorflow.keras as k\n",
        "import tensorflow.keras.layers as l\n",
        "from tensorflow.keras.layers import Dense, Flatten, Conv2D\n",
        "from tensorflow.keras import Model\n",
        "import matplotlib.pyplot as plt\n",
        "import random\n",
        "from keras import optimizers\n",
        "import pandas as pd"
      ],
      "execution_count": 0,
      "outputs": [
        {
          "output_type": "stream",
          "text": [
            "/usr/local/lib/python3.6/dist-packages/tensorflow/python/framework/dtypes.py:516: FutureWarning: Passing (type, 1) or '1type' as a synonym of type is deprecated; in a future version of numpy, it will be understood as (type, (1,)) / '(1,)type'.\n",
            "  _np_qint8 = np.dtype([(\"qint8\", np.int8, 1)])\n",
            "/usr/local/lib/python3.6/dist-packages/tensorflow/python/framework/dtypes.py:517: FutureWarning: Passing (type, 1) or '1type' as a synonym of type is deprecated; in a future version of numpy, it will be understood as (type, (1,)) / '(1,)type'.\n",
            "  _np_quint8 = np.dtype([(\"quint8\", np.uint8, 1)])\n",
            "/usr/local/lib/python3.6/dist-packages/tensorflow/python/framework/dtypes.py:518: FutureWarning: Passing (type, 1) or '1type' as a synonym of type is deprecated; in a future version of numpy, it will be understood as (type, (1,)) / '(1,)type'.\n",
            "  _np_qint16 = np.dtype([(\"qint16\", np.int16, 1)])\n",
            "/usr/local/lib/python3.6/dist-packages/tensorflow/python/framework/dtypes.py:519: FutureWarning: Passing (type, 1) or '1type' as a synonym of type is deprecated; in a future version of numpy, it will be understood as (type, (1,)) / '(1,)type'.\n",
            "  _np_quint16 = np.dtype([(\"quint16\", np.uint16, 1)])\n",
            "/usr/local/lib/python3.6/dist-packages/tensorflow/python/framework/dtypes.py:520: FutureWarning: Passing (type, 1) or '1type' as a synonym of type is deprecated; in a future version of numpy, it will be understood as (type, (1,)) / '(1,)type'.\n",
            "  _np_qint32 = np.dtype([(\"qint32\", np.int32, 1)])\n",
            "/usr/local/lib/python3.6/dist-packages/tensorflow/python/framework/dtypes.py:525: FutureWarning: Passing (type, 1) or '1type' as a synonym of type is deprecated; in a future version of numpy, it will be understood as (type, (1,)) / '(1,)type'.\n",
            "  np_resource = np.dtype([(\"resource\", np.ubyte, 1)])\n",
            "/usr/local/lib/python3.6/dist-packages/tensorboard/compat/tensorflow_stub/dtypes.py:541: FutureWarning: Passing (type, 1) or '1type' as a synonym of type is deprecated; in a future version of numpy, it will be understood as (type, (1,)) / '(1,)type'.\n",
            "  _np_qint8 = np.dtype([(\"qint8\", np.int8, 1)])\n",
            "/usr/local/lib/python3.6/dist-packages/tensorboard/compat/tensorflow_stub/dtypes.py:542: FutureWarning: Passing (type, 1) or '1type' as a synonym of type is deprecated; in a future version of numpy, it will be understood as (type, (1,)) / '(1,)type'.\n",
            "  _np_quint8 = np.dtype([(\"quint8\", np.uint8, 1)])\n",
            "/usr/local/lib/python3.6/dist-packages/tensorboard/compat/tensorflow_stub/dtypes.py:543: FutureWarning: Passing (type, 1) or '1type' as a synonym of type is deprecated; in a future version of numpy, it will be understood as (type, (1,)) / '(1,)type'.\n",
            "  _np_qint16 = np.dtype([(\"qint16\", np.int16, 1)])\n",
            "/usr/local/lib/python3.6/dist-packages/tensorboard/compat/tensorflow_stub/dtypes.py:544: FutureWarning: Passing (type, 1) or '1type' as a synonym of type is deprecated; in a future version of numpy, it will be understood as (type, (1,)) / '(1,)type'.\n",
            "  _np_quint16 = np.dtype([(\"quint16\", np.uint16, 1)])\n",
            "/usr/local/lib/python3.6/dist-packages/tensorboard/compat/tensorflow_stub/dtypes.py:545: FutureWarning: Passing (type, 1) or '1type' as a synonym of type is deprecated; in a future version of numpy, it will be understood as (type, (1,)) / '(1,)type'.\n",
            "  _np_qint32 = np.dtype([(\"qint32\", np.int32, 1)])\n",
            "/usr/local/lib/python3.6/dist-packages/tensorboard/compat/tensorflow_stub/dtypes.py:550: FutureWarning: Passing (type, 1) or '1type' as a synonym of type is deprecated; in a future version of numpy, it will be understood as (type, (1,)) / '(1,)type'.\n",
            "  np_resource = np.dtype([(\"resource\", np.ubyte, 1)])\n",
            "Using TensorFlow backend.\n"
          ],
          "name": "stderr"
        }
      ]
    },
    {
      "cell_type": "code",
      "metadata": {
        "id": "9v5mMqjZRGmf",
        "colab_type": "code",
        "outputId": "42ca2440-ffed-4107-c70e-d4ab839afb21",
        "colab": {
          "base_uri": "https://localhost:8080/",
          "height": 119
        }
      },
      "source": [
        "# reading above csv files as numpy arrays and check dimmensions\n",
        "\n",
        "my_train_d = pd.read_csv('/content/drive/My Drive/Masterlab/csv files/train_x.csv',skiprows=1,usecols=range(1,7),sep=',',header=None)\n",
        "my_train_l = pd.read_csv('/content/drive/My Drive/Masterlab/csv files/train_y.csv',skiprows=1,usecols=range(1,13),sep=',',header=None)\n",
        "my_val_d = pd.read_csv('/content/drive/My Drive/Masterlab/csv files/val_x.csv',skiprows=1,usecols=range(1,7),sep=',',header=None)\n",
        "my_val_l = pd.read_csv('/content/drive/My Drive/Masterlab/csv files/val_y.csv',skiprows=1,usecols=range(1,13),sep=',',header=None)\n",
        "my_test_d = pd.read_csv('/content/drive/My Drive/Masterlab/csv files/test_x.csv',skiprows=1,usecols=range(1,7),sep=',',header=None)\n",
        "my_test_l = pd.read_csv('/content/drive/My Drive/Masterlab/csv files/test_y.csv',skiprows=1,usecols=range(1,13),sep=',',header=None)\n",
        "\n",
        "\n",
        "print(np.array(my_train_d).shape) \n",
        "print(np.array(my_train_l).shape)  # (469194, 12)\n",
        "print(np.array(my_val_d).shape) \n",
        "print(np.array(my_val_l).shape)    # (133831, 12)\n",
        "print(np.array(my_test_d).shape)   # (69910, 6)\n",
        "print(np.array(my_test_l).shape)   # (69910, 12)"
      ],
      "execution_count": 0,
      "outputs": [
        {
          "output_type": "stream",
          "text": [
            "(553441, 6)\n",
            "(553441, 12)\n",
            "(85900, 6)\n",
            "(85900, 12)\n",
            "(175059, 6)\n",
            "(175059, 12)\n"
          ],
          "name": "stdout"
        }
      ]
    },
    {
      "cell_type": "code",
      "metadata": {
        "id": "GWHYHmp3KMce",
        "colab_type": "code",
        "outputId": "a0487c28-5f9d-4d2f-b361-9ca43b12761d",
        "colab": {
          "base_uri": "https://localhost:8080/",
          "height": 54
        }
      },
      "source": [
        "from collections import Counter\n",
        "\n",
        "f= lambda x: x+1\n",
        "y = f(np.argmax(train_y, axis=1))\n",
        "counter = Counter(y)\n",
        "print(counter)"
      ],
      "execution_count": 0,
      "outputs": [
        {
          "output_type": "stream",
          "text": [
            "Counter({5: 92912, 6: 90807, 1: 85010, 4: 83714, 2: 80098, 3: 73392, 11: 10831, 9: 8560, 10: 7922, 12: 7521, 7: 7149, 8: 5525})\n"
          ],
          "name": "stdout"
        }
      ]
    },
    {
      "cell_type": "code",
      "metadata": {
        "id": "V7BdKaSxYWZj",
        "colab_type": "code",
        "outputId": "aad70d9c-5c25-472a-d925-b14d2d96738f",
        "colab": {
          "base_uri": "https://localhost:8080/",
          "height": 156
        }
      },
      "source": [
        "from imblearn.over_sampling import RandomOverSampler\n",
        "\n",
        "ros = RandomOverSampler(random_state=0)\n",
        "\n",
        "\n",
        "x_resampled, y_resampled = ros.fit_sample(np.array(train_x), np.array(train_y))\n",
        "c = np.argmax(y_resampled, axis=1)\n",
        "c = Counter(c)\n",
        "print(c)"
      ],
      "execution_count": 0,
      "outputs": [
        {
          "output_type": "stream",
          "text": [
            "/usr/local/lib/python3.6/dist-packages/sklearn/externals/six.py:31: FutureWarning: The module is deprecated in version 0.21 and will be removed in version 0.23 since we've dropped support for Python 2.7. Please rely on the official version of six (https://pypi.org/project/six/).\n",
            "  \"(https://pypi.org/project/six/).\", FutureWarning)\n",
            "/usr/local/lib/python3.6/dist-packages/sklearn/utils/deprecation.py:144: FutureWarning: The sklearn.neighbors.base module is  deprecated in version 0.22 and will be removed in version 0.24. The corresponding classes / functions should instead be imported from sklearn.neighbors. Anything that cannot be imported from sklearn.neighbors is now part of the private API.\n",
            "  warnings.warn(message, FutureWarning)\n",
            "/usr/local/lib/python3.6/dist-packages/sklearn/utils/deprecation.py:87: FutureWarning: Function safe_indexing is deprecated; safe_indexing is deprecated in version 0.22 and will be removed in version 0.24.\n",
            "  warnings.warn(msg, category=FutureWarning)\n"
          ],
          "name": "stderr"
        },
        {
          "output_type": "stream",
          "text": [
            "Counter({4: 92912, 6: 92912, 3: 92912, 7: 92912, 10: 92912, 5: 92912, 9: 92912, 8: 92912, 11: 92912, 0: 92912, 2: 92912, 1: 92912})\n"
          ],
          "name": "stdout"
        }
      ]
    },
    {
      "cell_type": "code",
      "metadata": {
        "id": "1bimBj-XodKK",
        "colab_type": "code",
        "outputId": "eb3db230-293b-433b-cb42-58f71fc3a132",
        "colab": {
          "base_uri": "https://localhost:8080/",
          "height": 428
        }
      },
      "source": [
        "# use smote to oversample\n",
        "\n",
        "from imblearn.over_sampling import SMOTE\n",
        "\n",
        "# smote = SMOTE(ratio='minority')\n",
        "#smote = SMOTE(random_state=0)\n",
        "smote = SMOTE()\n",
        "x_sm, y_sm = smote.fit_sample(np.array(train_x), np.array(train_y))\n",
        "\n",
        "\n",
        "c = f(np.argmax(y_sm, axis=1))\n",
        "c = Counter(c)\n",
        "print(c)"
      ],
      "execution_count": 0,
      "outputs": [
        {
          "output_type": "stream",
          "text": [
            "/usr/local/lib/python3.6/dist-packages/sklearn/utils/deprecation.py:87: FutureWarning: Function safe_indexing is deprecated; safe_indexing is deprecated in version 0.22 and will be removed in version 0.24.\n",
            "  warnings.warn(msg, category=FutureWarning)\n",
            "/usr/local/lib/python3.6/dist-packages/sklearn/utils/deprecation.py:87: FutureWarning: Function safe_indexing is deprecated; safe_indexing is deprecated in version 0.22 and will be removed in version 0.24.\n",
            "  warnings.warn(msg, category=FutureWarning)\n",
            "/usr/local/lib/python3.6/dist-packages/sklearn/utils/deprecation.py:87: FutureWarning: Function safe_indexing is deprecated; safe_indexing is deprecated in version 0.22 and will be removed in version 0.24.\n",
            "  warnings.warn(msg, category=FutureWarning)\n",
            "/usr/local/lib/python3.6/dist-packages/sklearn/utils/deprecation.py:87: FutureWarning: Function safe_indexing is deprecated; safe_indexing is deprecated in version 0.22 and will be removed in version 0.24.\n",
            "  warnings.warn(msg, category=FutureWarning)\n",
            "/usr/local/lib/python3.6/dist-packages/sklearn/utils/deprecation.py:87: FutureWarning: Function safe_indexing is deprecated; safe_indexing is deprecated in version 0.22 and will be removed in version 0.24.\n",
            "  warnings.warn(msg, category=FutureWarning)\n",
            "/usr/local/lib/python3.6/dist-packages/sklearn/utils/deprecation.py:87: FutureWarning: Function safe_indexing is deprecated; safe_indexing is deprecated in version 0.22 and will be removed in version 0.24.\n",
            "  warnings.warn(msg, category=FutureWarning)\n",
            "/usr/local/lib/python3.6/dist-packages/sklearn/utils/deprecation.py:87: FutureWarning: Function safe_indexing is deprecated; safe_indexing is deprecated in version 0.22 and will be removed in version 0.24.\n",
            "  warnings.warn(msg, category=FutureWarning)\n",
            "/usr/local/lib/python3.6/dist-packages/sklearn/utils/deprecation.py:87: FutureWarning: Function safe_indexing is deprecated; safe_indexing is deprecated in version 0.22 and will be removed in version 0.24.\n",
            "  warnings.warn(msg, category=FutureWarning)\n",
            "/usr/local/lib/python3.6/dist-packages/sklearn/utils/deprecation.py:87: FutureWarning: Function safe_indexing is deprecated; safe_indexing is deprecated in version 0.22 and will be removed in version 0.24.\n",
            "  warnings.warn(msg, category=FutureWarning)\n",
            "/usr/local/lib/python3.6/dist-packages/sklearn/utils/deprecation.py:87: FutureWarning: Function safe_indexing is deprecated; safe_indexing is deprecated in version 0.22 and will be removed in version 0.24.\n",
            "  warnings.warn(msg, category=FutureWarning)\n",
            "/usr/local/lib/python3.6/dist-packages/sklearn/utils/deprecation.py:87: FutureWarning: Function safe_indexing is deprecated; safe_indexing is deprecated in version 0.22 and will be removed in version 0.24.\n",
            "  warnings.warn(msg, category=FutureWarning)\n"
          ],
          "name": "stderr"
        },
        {
          "output_type": "stream",
          "text": [
            "Counter({5: 92912, 7: 92912, 4: 92912, 8: 92912, 11: 92912, 6: 92912, 10: 92912, 9: 92912, 12: 92912, 1: 92912, 3: 92912, 2: 92912})\n"
          ],
          "name": "stdout"
        }
      ]
    },
    {
      "cell_type": "code",
      "metadata": {
        "id": "dfI6g1-8b1gV",
        "colab_type": "code",
        "colab": {}
      },
      "source": [
        "window_size = 250\n",
        "window_shift = 125\n",
        "batch_size = 32\n",
        "epoch = 15\n",
        "\n",
        "train_x = tf.convert_to_tensor(my_train_d.values)\n",
        "train_y = tf.convert_to_tensor(my_train_l.values, dtype=tf.int16)\n",
        "val_x = tf.convert_to_tensor(my_val_d.values)\n",
        "val_y = tf.convert_to_tensor(my_val_l.values, dtype=tf.int16)\n",
        "test_x = tf.convert_to_tensor(my_test_d.values)\n",
        "test_y = tf.convert_to_tensor(my_test_l.values, dtype=tf.int16)\n",
        "\n",
        "\n",
        "def sliding_win(x, y, window_size, window_shift, batch_size):\n",
        "\n",
        "    ds_x = tf.data.Dataset.from_tensor_slices(x)\n",
        "    ds_y = tf.data.Dataset.from_tensor_slices(y)\n",
        "    # ds_y = ds_y.map(tf.one_hot())\n",
        "    ds_x = ds_x.window(size=window_size, shift=window_shift, drop_remainder=True).flat_map(\n",
        "        lambda x: x.batch(window_size)).batch(batch_size, drop_remainder=True)\n",
        "    ds_y = ds_y.window(size=window_size, shift=window_shift, drop_remainder=True).flat_map(\n",
        "        lambda y: y.batch(window_size)).batch(batch_size, drop_remainder=True)\n",
        "    ds = tf.data.Dataset.zip((ds_x, ds_y))\n",
        "    return ds\n",
        "   "
      ],
      "execution_count": 0,
      "outputs": []
    },
    {
      "cell_type": "code",
      "metadata": {
        "id": "m8YoShPvZSHb",
        "colab_type": "code",
        "outputId": "e3869e22-4759-4d4f-b7ed-4df230cd1c00",
        "colab": {
          "base_uri": "https://localhost:8080/",
          "height": 54
        }
      },
      "source": [
        "\n",
        "train_sw = sliding_win(train_x, train_y, window_size, window_shift, batch_size)\n",
        "train_resampled_sw = sliding_win(x_sm, y_sm, window_size, window_shift, batch_size)\n",
        "test_sw = sliding_win(test_x,test_y, window_size, window_shift, batch_size)\n",
        "val_sw = sliding_win(val_x,val_y, window_size, window_shift, batch_size) \n"
      ],
      "execution_count": 0,
      "outputs": [
        {
          "output_type": "execute_result",
          "data": {
            "text/plain": [
              "'def parse_func(sw):\\n  for x,y in train_sw.unbatch():\\n   \\n    # print(tf.shape(y))    # y (250,12)\\n\\n    s = np.argmax(y, axis=1) \\n    # print(tf.shape(s))    # s (250,)\\n    s_label = []\\n    for i in range(0,250):\\n      if s[i] == s[0]:\\n        s_label = s[0]\\n      else:\\n        s_label = []\\n    print(s_label)\\n\\n\\n  ds_x = tf.data.Dataset.from_tensor_slices(x)\\n  ds_y = tf.data.Dataset.from_tensor_slices(y)\\n  # ds_y = ds_y.map(tf.one_hot())\\n  ds_x = ds_x.window(size=window_size, shift=window_shift, drop_remainder=True).flat_map(\\n        lambda x: x.batch(window_size)).batch(batch_size, drop_remainder=True)\\n  ds_y = ds_y.window(size=window_size, shift=window_shift, drop_remainder=True).flat_map(\\n        lambda y: y.batch(window_size)).batch(batch_size, drop_remainder=True)\\n  ds = tf.data.Dataset.zip((ds_x, ds_y))\\n  \\n  return x_\\n  \\nfor x,y train_sw.unbatch():\\n'"
            ]
          },
          "metadata": {
            "tags": []
          },
          "execution_count": 39
        }
      ]
    },
    {
      "cell_type": "code",
      "metadata": {
        "id": "SgeDdu4Wb1qk",
        "colab_type": "code",
        "outputId": "04d7ebaa-9bd1-46d1-96e3-c7b37b5a6de7",
        "colab": {
          "base_uri": "https://localhost:8080/",
          "height": 1000
        }
      },
      "source": [
        "# build model \n",
        "# windows 500,250 optional\n",
        "\n",
        "def base_model():\n",
        "    inputs = tf.keras.layers.Input(shape=(window_size, 6))\n",
        "\n",
        "    output = tf.keras.layers.LSTM(units=128, return_sequences=True)(inputs)\n",
        "\n",
        "    output = tf.keras.layers.Dense(units=64, activation='relu')(output)\n",
        "\n",
        "    output = tf.keras.layers.Dropout(rate=0.25)(output)\n",
        "\n",
        "    output = tf.keras.layers.Dense(units=12, activation='softmax')(output)\n",
        "    model = tf.keras.models.Model(inputs=inputs, outputs=output)\n",
        "    return model\n",
        "\n",
        "\n",
        "\"\"\"def base_model():\n",
        "    inputs = tf.keras.layers.Input(shape=(window_size, 6))\n",
        "\n",
        "    output = tf.keras.layers.LSTM(units=128, return_state=True)(inputs)\n",
        "    \n",
        "    return model\"\"\"\n",
        "    \n",
        "model = base_model()\n",
        "# model.load_weights(\"checkpoint_90_test/cp.ckpt\")\n",
        "model.summary()\n",
        "model.compile(loss='categorical_crossentropy', optimizer='adam', metrics=['accuracy'])\n",
        "\n",
        "checkpoint_path = \"test_ckpt/cp.ckpt\"\n",
        "\n",
        "# checkpoint_dir = os.path.dirname(checkpoint_path)\n",
        "# Create a callback that saves the model's weights\n",
        "cp_callback = tf.keras.callbacks.ModelCheckpoint(filepath=checkpoint_path,\n",
        "                                                 save_weights_only=True,\n",
        "                                                 verbose=1)\n",
        "model.fit(train_resampled_sw, epochs=epoch, validation_data=val_sw, callbacks=[cp_callback])\n",
        "model.save('my_model.h5')\n",
        "model.save_weights('my_model_weights.h5')\n",
        "\n",
        "\n",
        "# model.save('my_model.h5',save_format=\"tf\")\n"
      ],
      "execution_count": 0,
      "outputs": [
        {
          "output_type": "stream",
          "text": [
            "Model: \"model_2\"\n",
            "_________________________________________________________________\n",
            "Layer (type)                 Output Shape              Param #   \n",
            "=================================================================\n",
            "input_4 (InputLayer)         [(None, 250, 6)]          0         \n",
            "_________________________________________________________________\n",
            "lstm_3 (LSTM)                (None, 250, 128)          69120     \n",
            "_________________________________________________________________\n",
            "dense_5 (Dense)              (None, 250, 64)           8256      \n",
            "_________________________________________________________________\n",
            "dropout_2 (Dropout)          (None, 250, 64)           0         \n",
            "_________________________________________________________________\n",
            "dense_6 (Dense)              (None, 250, 12)           780       \n",
            "=================================================================\n",
            "Total params: 78,156\n",
            "Trainable params: 78,156\n",
            "Non-trainable params: 0\n",
            "_________________________________________________________________\n",
            "Epoch 1/15\n",
            "    278/Unknown - 118s 425ms/step - loss: 1.9400 - accuracy: 0.4852\n",
            "Epoch 00001: saving model to test_ckpt/cp.ckpt\n",
            "278/278 [==============================] - 123s 443ms/step - loss: 1.9400 - accuracy: 0.4852 - val_loss: 0.0000e+00 - val_accuracy: 0.0000e+00\n",
            "Epoch 2/15\n",
            "277/278 [============================>.] - ETA: 0s - loss: 1.5694 - accuracy: 0.5187\n",
            "Epoch 00002: saving model to test_ckpt/cp.ckpt\n",
            "278/278 [==============================] - 122s 438ms/step - loss: 1.5647 - accuracy: 0.5204 - val_loss: 3.9667 - val_accuracy: 0.0792\n",
            "Epoch 3/15\n",
            "277/278 [============================>.] - ETA: 0s - loss: 1.3891 - accuracy: 0.5212\n",
            "Epoch 00003: saving model to test_ckpt/cp.ckpt\n",
            "278/278 [==============================] - 121s 435ms/step - loss: 1.3852 - accuracy: 0.5229 - val_loss: 6.5238 - val_accuracy: 0.2474\n",
            "Epoch 4/15\n",
            "277/278 [============================>.] - ETA: 0s - loss: 1.3823 - accuracy: 0.5297\n",
            "Epoch 00004: saving model to test_ckpt/cp.ckpt\n",
            "278/278 [==============================] - 122s 438ms/step - loss: 1.3783 - accuracy: 0.5313 - val_loss: 3.1495 - val_accuracy: 0.3322\n",
            "Epoch 5/15\n",
            "277/278 [============================>.] - ETA: 0s - loss: 1.1846 - accuracy: 0.5790\n",
            "Epoch 00005: saving model to test_ckpt/cp.ckpt\n",
            "278/278 [==============================] - 122s 440ms/step - loss: 1.1816 - accuracy: 0.5805 - val_loss: 4.6855 - val_accuracy: 0.2031\n",
            "Epoch 6/15\n",
            "277/278 [============================>.] - ETA: 0s - loss: 1.1579 - accuracy: 0.5760\n",
            "Epoch 00006: saving model to test_ckpt/cp.ckpt\n",
            "278/278 [==============================] - 122s 437ms/step - loss: 1.1548 - accuracy: 0.5775 - val_loss: 3.0182 - val_accuracy: 0.3726\n",
            "Epoch 7/15\n",
            "277/278 [============================>.] - ETA: 0s - loss: 1.0328 - accuracy: 0.5500\n",
            "Epoch 00007: saving model to test_ckpt/cp.ckpt\n",
            "278/278 [==============================] - 122s 437ms/step - loss: 1.0311 - accuracy: 0.5516 - val_loss: 2.3317 - val_accuracy: 0.4317\n",
            "Epoch 8/15\n",
            "277/278 [============================>.] - ETA: 0s - loss: 0.9183 - accuracy: 0.5668\n",
            "Epoch 00008: saving model to test_ckpt/cp.ckpt\n",
            "278/278 [==============================] - 123s 442ms/step - loss: 0.9178 - accuracy: 0.5669 - val_loss: 1.8435 - val_accuracy: 0.5165\n",
            "Epoch 9/15\n",
            "277/278 [============================>.] - ETA: 0s - loss: 0.8046 - accuracy: 0.6190\n",
            "Epoch 00009: saving model to test_ckpt/cp.ckpt\n",
            "278/278 [==============================] - 123s 442ms/step - loss: 0.8043 - accuracy: 0.6202 - val_loss: 1.5684 - val_accuracy: 0.6046\n",
            "Epoch 10/15\n",
            "277/278 [============================>.] - ETA: 0s - loss: 0.7115 - accuracy: 0.6476\n",
            "Epoch 00010: saving model to test_ckpt/cp.ckpt\n",
            "278/278 [==============================] - 123s 444ms/step - loss: 0.7116 - accuracy: 0.6485 - val_loss: 1.5127 - val_accuracy: 0.5652\n",
            "Epoch 11/15\n",
            "277/278 [============================>.] - ETA: 0s - loss: 0.6638 - accuracy: 0.6673\n",
            "Epoch 00011: saving model to test_ckpt/cp.ckpt\n",
            "278/278 [==============================] - 124s 447ms/step - loss: 0.6642 - accuracy: 0.6672 - val_loss: 1.6053 - val_accuracy: 0.5624\n",
            "Epoch 12/15\n",
            "277/278 [============================>.] - ETA: 0s - loss: 0.6381 - accuracy: 0.6611\n",
            "Epoch 00012: saving model to test_ckpt/cp.ckpt\n",
            "278/278 [==============================] - 124s 444ms/step - loss: 0.6384 - accuracy: 0.6621 - val_loss: 1.4317 - val_accuracy: 0.6451\n",
            "Epoch 13/15\n",
            "277/278 [============================>.] - ETA: 0s - loss: 0.5985 - accuracy: 0.6895\n",
            "Epoch 00013: saving model to test_ckpt/cp.ckpt\n",
            "278/278 [==============================] - 123s 441ms/step - loss: 0.5990 - accuracy: 0.6902 - val_loss: 0.6464 - val_accuracy: 0.7943\n",
            "Epoch 14/15\n",
            "277/278 [============================>.] - ETA: 0s - loss: 0.5604 - accuracy: 0.7015\n",
            "Epoch 00014: saving model to test_ckpt/cp.ckpt\n",
            "278/278 [==============================] - 123s 442ms/step - loss: 0.5610 - accuracy: 0.7023 - val_loss: 0.7109 - val_accuracy: 0.7867\n",
            "Epoch 15/15\n",
            "277/278 [============================>.] - ETA: 0s - loss: 0.5223 - accuracy: 0.6995\n",
            "Epoch 00015: saving model to test_ckpt/cp.ckpt\n",
            "278/278 [==============================] - 123s 444ms/step - loss: 0.5229 - accuracy: 0.7005 - val_loss: 0.6050 - val_accuracy: 0.8297\n"
          ],
          "name": "stdout"
        }
      ]
    },
    {
      "cell_type": "code",
      "metadata": {
        "id": "WLl2fLtIb10C",
        "colab_type": "code",
        "outputId": "53f534d4-36bd-4c3a-de53-7145bdaafea4",
        "colab": {
          "base_uri": "https://localhost:8080/",
          "height": 34
        }
      },
      "source": [
        "from sklearn.metrics import accuracy_score, f1_score, precision_score, recall_score, confusion_matrix\n",
        "f = lambda x : x + 1\n",
        "\n",
        "# test accuracy\n",
        "def check_testing():\n",
        "  l_arr = []\n",
        "  p_arr = []\n",
        "    \n",
        "  for d,l in test_sw:  \n",
        "                                          # after unbatch   d(500,6)   l(500,12)\n",
        "    if len(l_arr) == 0 and len(p_arr)==0:\n",
        "      pred = model.predict(d)\n",
        "      p = pred.reshape(-1,12)      # reduce dimension\n",
        "      l = tf.reshape(l,(-1,12))    \n",
        "      p_reformed = f(np.argmax(p, axis=1))       #(40000,)\n",
        "      l_reformed = f(np.argmax(l, axis=1))       #(40000,)\n",
        "      l_arr = l_reformed\n",
        "      p_arr = p_reformed\n",
        "    else:\n",
        "      pred = model.predict(d)\n",
        "      p = pred.reshape(-1,12)      # reduce dimension\n",
        "      l = tf.reshape(l,(-1,12))\n",
        "      p_reformed = f(np.argmax(p, axis=1))      \n",
        "      l_reformed = f(np.argmax(l, axis=1))\n",
        "\n",
        "      l_arr = np.hstack((l_arr, l_reformed))\n",
        "      p_arr = np.hstack((p_arr, p_reformed))      #last (200000,)\n",
        "\n",
        "  acc_score = accuracy_score(l_arr, p_arr)\n",
        "  recall = recall_score(l_arr, p_arr, average=\"macro\")\n",
        "  precision = precision_score(l_arr, p_arr, average=\"macro\")\n",
        "  f1 = f1_score(l_arr, p_arr, average=\"macro\")\n",
        "\n",
        "  return [acc_score, recall, precision, f1]\n",
        "\n",
        "print(check_testing())\n",
        "\n",
        "\n",
        "def get_l_p():\n",
        "\n",
        "  l_arr = []\n",
        "  p_arr = []\n",
        "    \n",
        "  for d,l in test_sw:  \n",
        "                                          # after unbatch   d(500,6)   l(500,12)\n",
        "    if len(l_arr) == 0 and len(p_arr)==0:\n",
        "      pred = model.predict(d)\n",
        "      p = pred.reshape(-1,12)      # reduce dimension\n",
        "      l = tf.reshape(l,(-1,12))    \n",
        "      p_reformed = f(np.argmax(p, axis=1))       #(40000,)\n",
        "      l_reformed = f(np.argmax(l, axis=1))       #(40000,)\n",
        "      l_arr = l_reformed\n",
        "      p_arr = p_reformed\n",
        "    else:\n",
        "      pred = model.predict(d)\n",
        "      p = pred.reshape(-1,12)      # reduce dimension\n",
        "      l = tf.reshape(l,(-1,12))\n",
        "      p_reformed = f(np.argmax(p, axis=1))      \n",
        "      l_reformed = f(np.argmax(l, axis=1))\n",
        "\n",
        "      l_arr = np.hstack((l_arr, l_reformed))\n",
        "      p_arr = np.hstack((p_arr, p_reformed))      #last (200000,)\n",
        "\n",
        "\n",
        "  return l_arr, p_arr\n"
      ],
      "execution_count": 0,
      "outputs": [
        {
          "output_type": "stream",
          "text": [
            "[0.8856511627906977, 0.6733651324955146, 0.6815478774826557, 0.6597474256522258]\n"
          ],
          "name": "stdout"
        }
      ]
    },
    {
      "cell_type": "code",
      "metadata": {
        "id": "UvedMWGvb1yW",
        "colab_type": "code",
        "outputId": "4228b5b6-bd9f-4ef6-89bb-4ff17aa7d518",
        "colab": {
          "base_uri": "https://localhost:8080/",
          "height": 910
        }
      },
      "source": [
        "# Metrics confusion matrix\n",
        "\n",
        "def plot_confusion_matrix(cm, savename, title='Confusion Matrix'):\n",
        "    plt.figure(figsize=(12, 8), dpi=100)\n",
        "    np.set_printoptions(precision=2)\n",
        "\n",
        "    # the probabilities in confusion matrix\n",
        "    ind_array = np.arange(len(classes))\n",
        "    x, y = np.meshgrid(ind_array, ind_array)\n",
        "    for x_val, y_val in zip(x.flatten(), y.flatten()):\n",
        "        c = cm[y_val][x_val]\n",
        "        if c > 0.001:\n",
        "            plt.text(x_val, y_val, \"%0.2f\" % (c,), color='red', fontsize=5, va='center', ha='center')\n",
        "\n",
        "    plt.imshow(cm, interpolation='nearest', cmap=plt.cm.binary)\n",
        "    plt.title(title)\n",
        "    plt.colorbar()\n",
        "    xlocations = np.array(range(len(classes)))\n",
        "    plt.xticks(xlocations, classes, rotation=90)\n",
        "    plt.yticks(xlocations, classes)\n",
        "    plt.ylabel('Actual label')\n",
        "    plt.xlabel('Predict label')\n",
        "\n",
        "    # offset the tick\n",
        "    tick_marks = np.array(range(len(classes))) + 0.5\n",
        "    plt.gca().set_xticks(tick_marks, minor=True)\n",
        "    plt.gca().set_yticks(tick_marks, minor=True)\n",
        "    plt.gca().xaxis.set_ticks_position('none')\n",
        "    plt.gca().yaxis.set_ticks_position('none')\n",
        "    plt.grid(True, which='minor', linestyle='-')\n",
        "    plt.gcf().subplots_adjust(bottom=0.15)\n",
        "\n",
        "    # show confusion matrix\n",
        "    plt.savefig(savename, format='png')\n",
        "    plt.show()\n",
        "\n",
        "\n",
        "classes = ['WALKING', 'WALKING_UPSTAIRS', 'WALKING_DOWNSTAIRS', 'SITTING', 'STANDING', 'LAYING', 'STAND_TO_SIT',\n",
        "           'SIT_TO_STAND', 'SIT_TO_LIE', 'LIE_TO_SIT', 'STAND_TO_SIT', 'LIE_TO_STAND']\n",
        "\n",
        "\"\"\"random_numbers = np.random.randint(6, size=50) [4 3 4 4 1 3 5 4 0 5 1 1 2 2 1 2 3 1 2 4 4 0 4 1 3 0 0 1 4 4 4 3 1 2 1 3 4\n",
        " 4 0 2 0 5 5 4 2 0 3 2 1 2]\n",
        "y_t = random_numbers.copy() \n",
        "random_numbers[:10] = np.random.randint(6, size=10)  # 将前10个样本的值进行随机更改 [0 4 5 1 0 5 0 2 0 1 1 1 2 2 1 2 3 1 2 4 4 0 4 1 3 0 0 1 4 4 4 3 1 2 1 3 4\n",
        " 4 0 2 0 5 5 4 2 0 3 2 1 2]\n",
        "y_p = random_numbers\"\"\"\n",
        "\n",
        "y_true, y_pred = get_l_p()\n",
        "print(np.array(y_true).shape)\n",
        "print(np.array(y_pred).shape)\n",
        "# 获取混淆矩阵\n",
        "cm = confusion_matrix(y_true, y_pred)\n",
        "plot_confusion_matrix(cm, 'confusion_matrix.png', title='confusion matrix')\n",
        "\"\"\"if __name__ == '__main__':\n",
        "    print()\"\"\""
      ],
      "execution_count": 0,
      "outputs": [
        {
          "output_type": "stream",
          "text": [
            "(344000,)\n",
            "(344000,)\n"
          ],
          "name": "stdout"
        },
        {
          "output_type": "display_data",
          "data": {
            "image/png": "[encoded data removed]",
            "text/plain": [
              "<Figure size 1200x800 with 2 Axes>"
            ]
          },
          "metadata": {
            "tags": []
          }
        },
        {
          "output_type": "execute_result",
          "data": {
            "text/plain": [
              "\"if __name__ == '__main__':\\n    print()\""
            ]
          },
          "metadata": {
            "tags": []
          },
          "execution_count": 42
        }
      ]
    },
    {
      "cell_type": "code",
      "metadata": {
        "id": "E-lk5HqFcTXh",
        "colab_type": "code",
        "colab": {}
      },
      "source": [
        ""
      ],
      "execution_count": 0,
      "outputs": []
    },
    {
      "cell_type": "code",
      "metadata": {
        "id": "qdcdMroMcTUx",
        "colab_type": "code",
        "colab": {}
      },
      "source": [
        ""
      ],
      "execution_count": 0,
      "outputs": []
    }
  ]
}